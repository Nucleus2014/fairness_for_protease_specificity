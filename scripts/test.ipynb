{
 "cells": [
  {
   "cell_type": "markdown",
   "metadata": {},
   "source": [
    "# Sentiment"
   ]
  },
  {
   "cell_type": "code",
   "execution_count": 1,
   "metadata": {},
   "outputs": [],
   "source": [
    "import numpy as np\n",
    "from sklearn.decomposition import TruncatedSVD\n",
    "\n",
    "from utils import load_data, load_test_names, load_nyc_names, print_summary\n",
    "from SenSR import train_nn, train_fair_nn"
   ]
  },
  {
   "cell_type": "code",
   "execution_count": 49,
   "metadata": {},
   "outputs": [],
   "source": [
    "import warnings\n",
    "warnings.filterwarnings('ignore')"
   ]
  },
  {
   "cell_type": "code",
   "execution_count": 3,
   "metadata": {},
   "outputs": [],
   "source": [
    "# Download (and unpack) positive and negative words from\n",
    "# http://www.cs.uic.edu/~liub/FBS/opinion-lexicon-English.rar\n",
    "# and put them into\n",
    "data_path = './sentiment'"
   ]
  },
  {
   "cell_type": "code",
   "execution_count": 4,
   "metadata": {},
   "outputs": [],
   "source": [
    "# Download Common Crawl (42B tokens) GloVe word embeddings from\n",
    "# https://nlp.stanford.edu/projects/glove/\n",
    "# and put them into\n",
    "embeddings_path = './embeddings/glove.42B.300d.txt'"
   ]
  },
  {
   "cell_type": "code",
   "execution_count": 5,
   "metadata": {},
   "outputs": [],
   "source": [
    "# Download Popular Baby Names in CSV format from\n",
    "# https://catalog.data.gov/dataset/most-popular-baby-names-by-sex-and-mothers-ethnic-group-new-york-city-8c742\n",
    "# and put them into\n",
    "nyc_names_path = './nyc_names/Popular_Baby_Names.csv'"
   ]
  },
  {
   "cell_type": "code",
   "execution_count": 6,
   "metadata": {},
   "outputs": [
    {
     "name": "stderr",
     "output_type": "stream",
     "text": [
      "/Users/cplu/Downloads/Documents/Fall2021/588/fairML/sensitive-subspace-robustness/utils.py:55: FutureWarning: \n",
      "Passing list-likes to .loc or [] with any missing label will raise\n",
      "KeyError in the future, you can use .reindex() as an alternative.\n",
      "\n",
      "See the documentation here:\n",
      "https://pandas.pydata.org/pandas-docs/stable/indexing.html#deprecate-loc-reindex-listlike\n",
      "  pos_vectors = embeddings.loc[pos_words].dropna()\n",
      "/Users/cplu/Downloads/Documents/Fall2021/588/fairML/sensitive-subspace-robustness/utils.py:56: FutureWarning: \n",
      "Passing list-likes to .loc or [] with any missing label will raise\n",
      "KeyError in the future, you can use .reindex() as an alternative.\n",
      "\n",
      "See the documentation here:\n",
      "https://pandas.pydata.org/pandas-docs/stable/indexing.html#deprecate-loc-reindex-listlike\n",
      "  neg_vectors = embeddings.loc[neg_words].dropna()\n"
     ]
    }
   ],
   "source": [
    "## Load data and embeddings\n",
    "# Loading GloVe might take couple of minutes\n",
    "embeddings, X_train, X_test, y_train, y_test, train_vocab, test_vocab = load_data(data_path, embeddings_path)"
   ]
  },
  {
   "cell_type": "code",
   "execution_count": 21,
   "metadata": {},
   "outputs": [
    {
     "data": {
      "text/plain": [
       "((5966, 2), (663, 2))"
      ]
     },
     "execution_count": 21,
     "metadata": {},
     "output_type": "execute_result"
    }
   ],
   "source": [
    "y_train.shape, y_test.shape"
   ]
  },
  {
   "cell_type": "code",
   "execution_count": 7,
   "metadata": {},
   "outputs": [],
   "source": [
    "## Load test names and their embeddings\n",
    "test_df, test_names_embed = load_test_names(embeddings)"
   ]
  },
  {
   "cell_type": "code",
   "execution_count": 8,
   "metadata": {},
   "outputs": [
    {
     "data": {
      "text/plain": [
       "(94, 3)"
      ]
     },
     "execution_count": 8,
     "metadata": {},
     "output_type": "execute_result"
    }
   ],
   "source": [
    "test_df.shape"
   ]
  },
  {
   "cell_type": "code",
   "execution_count": 9,
   "metadata": {},
   "outputs": [],
   "source": [
    "## Load Popular NYC Baby Names and their embeddings\n",
    "nyc_names_embed = load_nyc_names(nyc_names_path, embeddings)"
   ]
  },
  {
   "cell_type": "code",
   "execution_count": 10,
   "metadata": {},
   "outputs": [
    {
     "data": {
      "text/plain": [
       "(14265, 300)"
      ]
     },
     "execution_count": 10,
     "metadata": {},
     "output_type": "execute_result"
    }
   ],
   "source": [
    "nyc_names_embed.shape"
   ]
  },
  {
   "cell_type": "code",
   "execution_count": 11,
   "metadata": {},
   "outputs": [],
   "source": [
    "import os\n",
    "os.environ['KMP_DUPLICATE_LIB_OK'] = 'True'"
   ]
  },
  {
   "cell_type": "markdown",
   "metadata": {},
   "source": [
    "# Baseline experiment (NN)"
   ]
  },
  {
   "cell_type": "code",
   "execution_count": 12,
   "metadata": {},
   "outputs": [
    {
     "name": "stdout",
     "output_type": "stream",
     "text": [
      "WARNING:tensorflow:From /Users/cplu/anaconda3/lib/python3.7/site-packages/tensorflow/python/framework/op_def_library.py:263: colocate_with (from tensorflow.python.framework.ops) is deprecated and will be removed in a future version.\n",
      "Instructions for updating:\n",
      "Colocations handled automatically by placer.\n",
      "\n",
      "Final train accuracy 0.956587\n",
      "Final test accuracy 0.941176\n",
      "baseline test accuracy 0.941176\n",
      "baseline Black mean sentiment is 0.312849\n",
      "baseline White mean sentiment is 2.956999\n",
      "baseline race mean sentiment difference is 2.644150\n",
      "\n",
      "baseline Female mean sentiment is 2.449749\n",
      "baseline Male mean sentiment is 0.964222\n",
      "baseline gender mean sentiment difference is 1.485527\n",
      "\n"
     ]
    },
    {
     "data": {
      "image/png": "[encoded data removed]",
      "text/plain": [
       "<Figure size 432x288 with 1 Axes>"
      ]
     },
     "metadata": {
      "needs_background": "light"
     },
     "output_type": "display_data"
    }
   ],
   "source": [
    "## Baseline\n",
    "baseline_weights, _, baseline_test_logits = train_nn(X_train, y_train, X_test=X_test, y_test=y_test, epoch=2000, batch_size=1000)\n",
    "baseline_accuracy = (baseline_test_logits.argmax(axis=1)==y_test.argmax(axis=1)).mean()\n",
    "_, baseline_names_logits, _ = train_nn(test_names_embed, y_train=None, weights=baseline_weights, epoch=0)\n",
    "test_df['baseline_logits'] = baseline_names_logits[:,1] - baseline_names_logits[:,0]\n",
    "print_summary(test_df, 'baseline', baseline_accuracy)"
   ]
  },
  {
   "cell_type": "code",
   "execution_count": 33,
   "metadata": {},
   "outputs": [
    {
     "data": {
      "text/html": [
       "<div>\n",
       "<style scoped>\n",
       "    .dataframe tbody tr th:only-of-type {\n",
       "        vertical-align: middle;\n",
       "    }\n",
       "\n",
       "    .dataframe tbody tr th {\n",
       "        vertical-align: top;\n",
       "    }\n",
       "\n",
       "    .dataframe thead th {\n",
       "        text-align: right;\n",
       "    }\n",
       "</style>\n",
       "<table border=\"1\" class=\"dataframe\">\n",
       "  <thead>\n",
       "    <tr style=\"text-align: right;\">\n",
       "      <th></th>\n",
       "      <th>name</th>\n",
       "      <th>race</th>\n",
       "      <th>gender</th>\n",
       "      <th>baseline_logits</th>\n",
       "    </tr>\n",
       "  </thead>\n",
       "  <tbody>\n",
       "    <tr>\n",
       "      <th>0</th>\n",
       "      <td>adam</td>\n",
       "      <td>White</td>\n",
       "      <td>Male</td>\n",
       "      <td>6.450377</td>\n",
       "    </tr>\n",
       "    <tr>\n",
       "      <th>1</th>\n",
       "      <td>chip</td>\n",
       "      <td>White</td>\n",
       "      <td>Male</td>\n",
       "      <td>-1.040717</td>\n",
       "    </tr>\n",
       "    <tr>\n",
       "      <th>2</th>\n",
       "      <td>harry</td>\n",
       "      <td>White</td>\n",
       "      <td>Male</td>\n",
       "      <td>1.668889</td>\n",
       "    </tr>\n",
       "    <tr>\n",
       "      <th>3</th>\n",
       "      <td>josh</td>\n",
       "      <td>White</td>\n",
       "      <td>Male</td>\n",
       "      <td>4.902444</td>\n",
       "    </tr>\n",
       "    <tr>\n",
       "      <th>4</th>\n",
       "      <td>roger</td>\n",
       "      <td>White</td>\n",
       "      <td>Male</td>\n",
       "      <td>1.584226</td>\n",
       "    </tr>\n",
       "  </tbody>\n",
       "</table>\n",
       "</div>"
      ],
      "text/plain": [
       "    name   race gender  baseline_logits\n",
       "0   adam  White   Male         6.450377\n",
       "1   chip  White   Male        -1.040717\n",
       "2  harry  White   Male         1.668889\n",
       "3   josh  White   Male         4.902444\n",
       "4  roger  White   Male         1.584226"
      ]
     },
     "execution_count": 33,
     "metadata": {},
     "output_type": "execute_result"
    }
   ],
   "source": [
    "test_df.head()"
   ]
  },
  {
   "cell_type": "code",
   "execution_count": 46,
   "metadata": {},
   "outputs": [],
   "source": [
    "import matplotlib.pyplot as plt\n",
    "import seaborn as sns\n",
    "def print_summary(test_df, method_name, test_accuracy):\n",
    "    \n",
    "    print(method_name + ' test accuracy %f' % test_accuracy)\n",
    "    mean_sentiments_race = []\n",
    "    for r in ['Black', 'White']:\n",
    "        mean_sent = test_df[method_name + '_logits'][test_df['race']==r].mean()\n",
    "        mean_sentiments_race.append(mean_sent)\n",
    "        print(method_name + ' %s mean sentiment is %f' %(r, mean_sent))\n",
    "    print(method_name + ' race mean sentiment difference is %f\\n' % np.abs(mean_sentiments_race[0] - mean_sentiments_race[1]))\n",
    "    \n",
    "    mean_sentiments_gender = []\n",
    "    for g in ['Female', 'Male']:\n",
    "        mean_sent = test_df[method_name + '_logits'][test_df['gender']==g].mean()\n",
    "        mean_sentiments_gender.append(mean_sent)\n",
    "        print(method_name + ' %s mean sentiment is %f' %(g, mean_sent))\n",
    "    print(method_name + ' gender mean sentiment difference is %f\\n' % np.abs(mean_sentiments_gender[0] - mean_sentiments_gender[1]))\n",
    "    \n",
    "\n",
    "    sns.boxplot(x='race', y=method_name + '_logits', data=test_df).set_title(method_name, fontsize=30)\n",
    "    plt.ylim(-5, 7)\n",
    "    plt.xlabel('')\n",
    "    plt.ylabel('Logits', size=20, labelpad=-5)\n",
    "    plt.xticks(fontsize=20)\n",
    "    plt.yticks(fontsize=14)\n",
    "    plt.show()\n",
    "\n",
    "    return"
   ]
  },
  {
   "cell_type": "code",
   "execution_count": 20,
   "metadata": {},
   "outputs": [
    {
     "name": "stdout",
     "output_type": "stream",
     "text": [
      "baseline test accuracy 0.941176\n",
      "baseline Black mean sentiment is 0.312849\n",
      "baseline White mean sentiment is 2.956999\n",
      "baseline race mean sentiment difference is 2.644150\n",
      "\n",
      "baseline Female mean sentiment is 2.449749\n",
      "baseline Male mean sentiment is 0.964222\n",
      "baseline gender mean sentiment difference is 1.485527\n",
      "\n"
     ]
    },
    {
     "data": {
      "image/png": "[encoded data removed]",
      "text/plain": [
       "<Figure size 432x288 with 1 Axes>"
      ]
     },
     "metadata": {
      "needs_background": "light"
     },
     "output_type": "display_data"
    }
   ],
   "source": [
    "print_summary(test_df, 'baseline', baseline_accuracy)"
   ]
  },
  {
   "cell_type": "code",
   "execution_count": 29,
   "metadata": {},
   "outputs": [
    {
     "name": "stdout",
     "output_type": "stream",
     "text": [
      "baseline test accuracy 0.941176\n",
      "baseline Black mean sentiment is 0.312849\n",
      "baseline White mean sentiment is 2.956999\n",
      "baseline race mean sentiment difference is 2.644150\n",
      "\n",
      "baseline Female mean sentiment is 2.449749\n",
      "baseline Male mean sentiment is 0.964222\n",
      "baseline gender mean sentiment difference is 1.485527\n",
      "\n"
     ]
    },
    {
     "data": {
      "image/png": "[encoded data removed]",
      "text/plain": [
       "<Figure size 432x288 with 1 Axes>"
      ]
     },
     "metadata": {
      "needs_background": "light"
     },
     "output_type": "display_data"
    }
   ],
   "source": [
    "print_summary(test_df, 'baseline', baseline_accuracy)"
   ]
  },
  {
   "cell_type": "code",
   "execution_count": 42,
   "metadata": {},
   "outputs": [
    {
     "data": {
      "text/html": [
       "<div>\n",
       "<style scoped>\n",
       "    .dataframe tbody tr th:only-of-type {\n",
       "        vertical-align: middle;\n",
       "    }\n",
       "\n",
       "    .dataframe tbody tr th {\n",
       "        vertical-align: top;\n",
       "    }\n",
       "\n",
       "    .dataframe thead th {\n",
       "        text-align: right;\n",
       "    }\n",
       "</style>\n",
       "<table border=\"1\" class=\"dataframe\">\n",
       "  <thead>\n",
       "    <tr style=\"text-align: right;\">\n",
       "      <th></th>\n",
       "      <th>name</th>\n",
       "      <th>race</th>\n",
       "      <th>gender</th>\n",
       "      <th>baseline_logits</th>\n",
       "      <th>sensr0_expert_logits</th>\n",
       "      <th>sensr0_logits</th>\n",
       "    </tr>\n",
       "  </thead>\n",
       "  <tbody>\n",
       "    <tr>\n",
       "      <th>0</th>\n",
       "      <td>adam</td>\n",
       "      <td>White</td>\n",
       "      <td>Male</td>\n",
       "      <td>6.450377</td>\n",
       "      <td>-0.345438</td>\n",
       "      <td>1.562763</td>\n",
       "    </tr>\n",
       "    <tr>\n",
       "      <th>1</th>\n",
       "      <td>chip</td>\n",
       "      <td>White</td>\n",
       "      <td>Male</td>\n",
       "      <td>-1.040717</td>\n",
       "      <td>-0.349299</td>\n",
       "      <td>0.350032</td>\n",
       "    </tr>\n",
       "    <tr>\n",
       "      <th>2</th>\n",
       "      <td>harry</td>\n",
       "      <td>White</td>\n",
       "      <td>Male</td>\n",
       "      <td>1.668889</td>\n",
       "      <td>-0.347564</td>\n",
       "      <td>0.395830</td>\n",
       "    </tr>\n",
       "    <tr>\n",
       "      <th>3</th>\n",
       "      <td>josh</td>\n",
       "      <td>White</td>\n",
       "      <td>Male</td>\n",
       "      <td>4.902444</td>\n",
       "      <td>-0.344976</td>\n",
       "      <td>2.205281</td>\n",
       "    </tr>\n",
       "    <tr>\n",
       "      <th>4</th>\n",
       "      <td>roger</td>\n",
       "      <td>White</td>\n",
       "      <td>Male</td>\n",
       "      <td>1.584226</td>\n",
       "      <td>-0.347626</td>\n",
       "      <td>-0.225431</td>\n",
       "    </tr>\n",
       "  </tbody>\n",
       "</table>\n",
       "</div>"
      ],
      "text/plain": [
       "    name   race gender  baseline_logits  sensr0_expert_logits  sensr0_logits\n",
       "0   adam  White   Male         6.450377             -0.345438       1.562763\n",
       "1   chip  White   Male        -1.040717             -0.349299       0.350032\n",
       "2  harry  White   Male         1.668889             -0.347564       0.395830\n",
       "3   josh  White   Male         4.902444             -0.344976       2.205281\n",
       "4  roger  White   Male         1.584226             -0.347626      -0.225431"
      ]
     },
     "execution_count": 42,
     "metadata": {},
     "output_type": "execute_result"
    }
   ],
   "source": [
    "test_df.head()"
   ]
  },
  {
   "cell_type": "code",
   "execution_count": 35,
   "metadata": {},
   "outputs": [
    {
     "name": "stdout",
     "output_type": "stream",
     "text": [
      "\n",
      "WARNING: The TensorFlow contrib module will not be included in TensorFlow 2.0.\n",
      "For more information, please see:\n",
      "  * https://github.com/tensorflow/community/blob/master/rfcs/20180907-contrib-sunset.md\n",
      "  * https://github.com/tensorflow/addons\n",
      "If you depend on functionality not listed there, please file an issue.\n",
      "\n",
      "WARNING:tensorflow:From /Users/cplu/Downloads/Documents/Fall2021/588/fairML/sensitive-subspace-robustness/SenSR.py:208: get_or_create_global_step (from tensorflow.contrib.framework.python.ops.variables) is deprecated and will be removed in a future version.\n",
      "Instructions for updating:\n",
      "Please switch to tf.train.get_or_create_global_step\n",
      "\n",
      "Final train accuracy 0.92759\n",
      "Final test accuracy 0.923077\n",
      "sensr0_expert test accuracy 0.923077\n",
      "sensr0_expert Black mean sentiment is -0.348363\n",
      "sensr0_expert White mean sentiment is -0.351193\n",
      "sensr0_expert race mean sentiment difference is 0.002830\n",
      "\n",
      "sensr0_expert Female mean sentiment is -0.351948\n",
      "sensr0_expert Male mean sentiment is -0.347817\n",
      "sensr0_expert gender mean sentiment difference is 0.004131\n",
      "\n"
     ]
    },
    {
     "data": {
      "image/png": "[encoded data removed]",
      "text/plain": [
       "<Figure size 432x288 with 1 Axes>"
      ]
     },
     "metadata": {
      "needs_background": "light"
     },
     "output_type": "display_data"
    }
   ],
   "source": [
    "## SenSR_0 expert\n",
    "expert_sens_directions = np.copy(test_names_embed)\n",
    "sensr0_expert_weights, _, sensr0_expert_test_logits = train_fair_nn(X_train, y_train, expert_sens_directions, X_test = X_test, y_test=y_test)\n",
    "sensr0_expert_accuracy = (sensr0_expert_test_logits.argmax(axis=1)==y_test.argmax(axis=1)).mean()\n",
    "_, sensr0_expert_names_logits, _ = train_nn(test_names_embed, y_train=None, weights=sensr0_expert_weights, epoch=0)\n",
    "test_df['sensr0_expert_logits'] = sensr0_expert_names_logits[:,1] - sensr0_expert_names_logits[:,0]\n",
    "print_summary(test_df, 'sensr0_expert', sensr0_expert_accuracy)\n"
   ]
  },
  {
   "cell_type": "code",
   "execution_count": 37,
   "metadata": {},
   "outputs": [
    {
     "name": "stdout",
     "output_type": "stream",
     "text": [
      "sensr0_expert test accuracy 0.923077\n",
      "sensr0_expert Black mean sentiment is -0.348363\n",
      "sensr0_expert White mean sentiment is -0.351193\n",
      "sensr0_expert race mean sentiment difference is 0.002830\n",
      "\n",
      "sensr0_expert Female mean sentiment is -0.351948\n",
      "sensr0_expert Male mean sentiment is -0.347817\n",
      "sensr0_expert gender mean sentiment difference is 0.004131\n",
      "\n"
     ]
    },
    {
     "data": {
      "image/png": "[encoded data removed]",
      "text/plain": [
       "<Figure size 432x288 with 1 Axes>"
      ]
     },
     "metadata": {
      "needs_background": "light"
     },
     "output_type": "display_data"
    }
   ],
   "source": [
    "print_summary(test_df, 'sensr0_expert', sensr0_expert_accuracy)"
   ]
  },
  {
   "cell_type": "code",
   "execution_count": 38,
   "metadata": {},
   "outputs": [],
   "source": [
    "## SenSR_0\n",
    "# Learning sensitive direction from Popular Baby Names\n",
    "tSVD = TruncatedSVD(n_components=50)\n",
    "tSVD.fit(nyc_names_embed)\n",
    "svd_sens_directions = tSVD.components_"
   ]
  },
  {
   "cell_type": "code",
   "execution_count": 39,
   "metadata": {},
   "outputs": [
    {
     "name": "stdout",
     "output_type": "stream",
     "text": [
      "\n",
      "Final train accuracy 0.938485\n",
      "Final test accuracy 0.932127\n",
      "sensr0 test accuracy 0.932127\n",
      "sensr0 Black mean sentiment is 0.315570\n",
      "sensr0 White mean sentiment is 0.089544\n",
      "sensr0 race mean sentiment difference is 0.226026\n",
      "\n",
      "sensr0 Female mean sentiment is 0.330003\n",
      "sensr0 Male mean sentiment is 0.071004\n",
      "sensr0 gender mean sentiment difference is 0.258999\n",
      "\n"
     ]
    },
    {
     "data": {
      "image/png": "[encoded data removed]",
      "text/plain": [
       "<Figure size 432x288 with 1 Axes>"
      ]
     },
     "metadata": {
      "needs_background": "light"
     },
     "output_type": "display_data"
    }
   ],
   "source": [
    "sensr0_weights, _, sensr0_test_logits = train_fair_nn(X_train, y_train, svd_sens_directions, X_test = X_test, y_test=y_test)\n",
    "sensr0_accuracy = (sensr0_test_logits.argmax(axis=1)==y_test.argmax(axis=1)).mean()\n",
    "_, sensr0_names_logits, _ = train_nn(test_names_embed, y_train=None, weights=sensr0_weights, epoch=0)\n",
    "test_df['sensr0_logits'] = sensr0_names_logits[:,1] - sensr0_names_logits[:,0]\n",
    "print_summary(test_df, 'sensr0', sensr0_accuracy)"
   ]
  },
  {
   "cell_type": "code",
   "execution_count": 44,
   "metadata": {},
   "outputs": [
    {
     "name": "stdout",
     "output_type": "stream",
     "text": [
      "sensr0 test accuracy 0.932127\n",
      "sensr0 Black mean sentiment is 0.315570\n",
      "sensr0 White mean sentiment is 0.089544\n",
      "sensr0 race mean sentiment difference is 0.226026\n",
      "\n",
      "sensr0 Female mean sentiment is 0.330003\n",
      "sensr0 Male mean sentiment is 0.071004\n",
      "sensr0 gender mean sentiment difference is 0.258999\n",
      "\n"
     ]
    },
    {
     "data": {
      "image/png": "[encoded data removed]",
      "text/plain": [
       "<Figure size 432x288 with 1 Axes>"
      ]
     },
     "metadata": {
      "needs_background": "light"
     },
     "output_type": "display_data"
    }
   ],
   "source": [
    "print_summary(test_df, 'sensr0', sensr0_accuracy)"
   ]
  },
  {
   "cell_type": "code",
   "execution_count": 45,
   "metadata": {},
   "outputs": [
    {
     "name": "stdout",
     "output_type": "stream",
     "text": [
      "WARNING:tensorflow:From /Users/cplu/anaconda3/lib/python3.7/site-packages/tensorflow/python/ops/math_ops.py:3066: to_int32 (from tensorflow.python.ops.math_ops) is deprecated and will be removed in a future version.\n",
      "Instructions for updating:\n",
      "Use tf.cast instead.\n",
      "\n",
      "Final train accuracy 0.940664\n",
      "Final test accuracy 0.927602\n",
      "Final lambda 3.387387\n",
      "sensr test accuracy 0.927602\n",
      "sensr Black mean sentiment is 0.224193\n",
      "sensr White mean sentiment is 0.154852\n",
      "sensr race mean sentiment difference is 0.069341\n",
      "\n",
      "sensr Female mean sentiment is 0.242530\n",
      "sensr Male mean sentiment is 0.135835\n",
      "sensr gender mean sentiment difference is 0.106695\n",
      "\n"
     ]
    },
    {
     "data": {
      "image/png": "[encoded data removed]",
      "text/plain": [
       "<Figure size 432x288 with 1 Axes>"
      ]
     },
     "metadata": {
      "needs_background": "light"
     },
     "output_type": "display_data"
    }
   ],
   "source": [
    "## SenSR\n",
    "sensr_weights, _, sensr_test_logits = train_fair_nn(X_train, y_train, svd_sens_directions, X_test = X_test, y_test=y_test, full_step=0.01, eps=0.1)\n",
    "sensr_accuracy = (sensr_test_logits.argmax(axis=1)==y_test.argmax(axis=1)).mean()\n",
    "_, sensr_names_logits, _ = train_nn(test_names_embed, y_train=None, weights=sensr_weights, epoch=0)\n",
    "test_df['sensr_logits'] = sensr_names_logits[:,1] - sensr_names_logits[:,0]\n",
    "print_summary(test_df, 'sensr', sensr_accuracy)"
   ]
  },
  {
   "cell_type": "code",
   "execution_count": 47,
   "metadata": {},
   "outputs": [
    {
     "name": "stdout",
     "output_type": "stream",
     "text": [
      "sensr test accuracy 0.927602\n",
      "sensr Black mean sentiment is 0.224193\n",
      "sensr White mean sentiment is 0.154852\n",
      "sensr race mean sentiment difference is 0.069341\n",
      "\n",
      "sensr Female mean sentiment is 0.242530\n",
      "sensr Male mean sentiment is 0.135835\n",
      "sensr gender mean sentiment difference is 0.106695\n",
      "\n"
     ]
    },
    {
     "data": {
      "image/png": "[encoded data removed]",
      "text/plain": [
       "<Figure size 432x288 with 1 Axes>"
      ]
     },
     "metadata": {
      "needs_background": "light"
     },
     "output_type": "display_data"
    }
   ],
   "source": [
    "print_summary(test_df, 'sensr', sensr_accuracy)"
   ]
  },
  {
   "cell_type": "markdown",
   "metadata": {},
   "source": [
    "# adult"
   ]
  },
  {
   "cell_type": "code",
   "execution_count": 2,
   "metadata": {},
   "outputs": [
    {
     "name": "stdout",
     "output_type": "stream",
     "text": [
      "Collecting package metadata (repodata.json): done\n",
      "Solving environment: \\ \n",
      "The environment is inconsistent, please check the package plan carefully\n",
      "The following packages are causing the inconsistency:\n",
      "\n",
      "  - anaconda/osx-64::spyder==3.3.2=py37_0\n",
      "  - anaconda/osx-64::anaconda==2018.12=py37_0\n",
      "done\n",
      "\n",
      "## Package Plan ##\n",
      "\n",
      "  environment location: /Users/cplu/anaconda3\n",
      "\n",
      "  added / updated specs:\n",
      "    - aif360\n",
      "\n",
      "\n",
      "The following packages will be downloaded:\n",
      "\n",
      "    package                    |            build\n",
      "    ---------------------------|-----------------\n",
      "    _anaconda_depends-2019.10  |           py37_0           5 KB\n",
      "    aif360-0.3.0               |             py_0         108 KB  conda-forge\n",
      "    ca-certificates-2020.10.14 |                0         127 KB\n",
      "    certifi-2020.11.8          |   py37hecd8cb5_0         151 KB\n",
      "    conda-4.9.2                |   py37hecd8cb5_0         3.1 MB\n",
      "    fsspec-0.8.3               |             py_0          69 KB\n",
      "    joblib-0.17.0              |             py_0         205 KB\n",
      "    json5-0.9.5                |             py_0          22 KB\n",
      "    libblas-3.8.0              |           14_mkl          10 KB  conda-forge\n",
      "    libcblas-3.8.0             |           14_mkl          10 KB  conda-forge\n",
      "    liblapack-3.8.0            |           14_mkl          10 KB  conda-forge\n",
      "    matplotlib-base-3.1.1      |   py37h3a684a6_1         6.6 MB  conda-forge\n",
      "    numpy-1.19.4               |   py37h9ebeaaa_1         5.1 MB  conda-forge\n",
      "    openssl-1.1.1h             |       haf1e3a3_0         3.4 MB\n",
      "    pandas-1.0.3               |   py37h6c726b0_0         9.9 MB\n",
      "    pycodestyle-2.6.0          |             py_0          41 KB\n",
      "    pyflakes-2.2.0             |             py_0          59 KB\n",
      "    pyrsistent-0.17.3          |   py37haf1e3a3_0          87 KB\n",
      "    python_abi-3.7             |          1_cp37m           4 KB  conda-forge\n",
      "    ripgrep-12.1.1             |                0         1.4 MB\n",
      "    scikit-learn-0.21.3        |   py37hd4ffd6c_0         5.9 MB  conda-forge\n",
      "    soupsieve-2.0.1            |             py_0          33 KB\n",
      "    sphinxcontrib-applehelp-1.0.2|             py_0          30 KB\n",
      "    sphinxcontrib-devhelp-1.0.2|             py_0          24 KB\n",
      "    sphinxcontrib-htmlhelp-1.0.3|             py_0          29 KB\n",
      "    sphinxcontrib-qthelp-1.0.3 |             py_0          26 KB\n",
      "    sphinxcontrib-serializinghtml-1.1.4|             py_0          25 KB\n",
      "    ------------------------------------------------------------\n",
      "                                           Total:        36.5 MB\n",
      "\n",
      "The following NEW packages will be INSTALLED:\n",
      "\n",
      "  _anaconda_depends  pkgs/main/osx-64::_anaconda_depends-2019.10-py37_0\n",
      "  aif360             conda-forge/noarch::aif360-0.3.0-py_0\n",
      "  fsspec             pkgs/main/noarch::fsspec-0.8.3-py_0\n",
      "  joblib             pkgs/main/noarch::joblib-0.17.0-py_0\n",
      "  json5              pkgs/main/noarch::json5-0.9.5-py_0\n",
      "  libblas            conda-forge/osx-64::libblas-3.8.0-14_mkl\n",
      "  libcblas           conda-forge/osx-64::libcblas-3.8.0-14_mkl\n",
      "  liblapack          conda-forge/osx-64::liblapack-3.8.0-14_mkl\n",
      "  matplotlib-base    conda-forge/osx-64::matplotlib-base-3.1.1-py37h3a684a6_1\n",
      "  pycodestyle        pkgs/main/noarch::pycodestyle-2.6.0-py_0\n",
      "  pyflakes           pkgs/main/noarch::pyflakes-2.2.0-py_0\n",
      "  pyrsistent         pkgs/main/osx-64::pyrsistent-0.17.3-py37haf1e3a3_0\n",
      "  python_abi         conda-forge/osx-64::python_abi-3.7-1_cp37m\n",
      "  ripgrep            pkgs/main/osx-64::ripgrep-12.1.1-0\n",
      "  soupsieve          pkgs/main/noarch::soupsieve-2.0.1-py_0\n",
      "  sphinxcontrib-app~ pkgs/main/noarch::sphinxcontrib-applehelp-1.0.2-py_0\n",
      "  sphinxcontrib-dev~ pkgs/main/noarch::sphinxcontrib-devhelp-1.0.2-py_0\n",
      "  sphinxcontrib-htm~ pkgs/main/noarch::sphinxcontrib-htmlhelp-1.0.3-py_0\n",
      "  sphinxcontrib-jsm~ pkgs/main/noarch::sphinxcontrib-jsmath-1.0.1-py_0\n",
      "  sphinxcontrib-qth~ pkgs/main/noarch::sphinxcontrib-qthelp-1.0.3-py_0\n",
      "  sphinxcontrib-ser~ pkgs/main/noarch::sphinxcontrib-serializinghtml-1.1.4-py_0\n",
      "\n",
      "The following packages will be UPDATED:\n",
      "\n",
      "  ca-certificates    anaconda::ca-certificates-2018.03.07-0 --> pkgs/main::ca-certificates-2020.10.14-0\n",
      "  certifi               anaconda::certifi-2018.11.29-py37_0 --> pkgs/main::certifi-2020.11.8-py37hecd8cb5_0\n",
      "  conda                                        4.8.4-py37_0 --> 4.9.2-py37hecd8cb5_0\n",
      "  numpy               anaconda::numpy-1.15.4-py37hacdab7b_0 --> conda-forge::numpy-1.19.4-py37h9ebeaaa_1\n",
      "  openssl               anaconda::openssl-1.1.1a-h1de35cc_0 --> pkgs/main::openssl-1.1.1h-haf1e3a3_0\n",
      "  pandas             anaconda::pandas-0.23.4-py37h6440ff4_0 --> pkgs/main::pandas-1.0.3-py37h6c726b0_0\n",
      "  scikit-learn       anaconda::scikit-learn-0.20.1-py37h27~ --> conda-forge::scikit-learn-0.21.3-py37hd4ffd6c_0\n",
      "  scipy                anaconda::scipy-1.1.0-py37h1410ff5_2 --> pkgs/main::scipy-1.2.1-py37h1410ff5_0\n",
      "\n",
      "The following packages will be SUPERSEDED by a higher-priority channel:\n",
      "\n",
      "  anaconda                anaconda::anaconda-2018.12-py37_0 --> pkgs/main::anaconda-custom-py37_1\n",
      "\n",
      "\n",
      "Proceed ([y]/n)? ^C\n",
      "\n",
      "CondaSystemExit: \n",
      "Operation aborted.  Exiting.\n",
      "\n"
     ]
    }
   ],
   "source": [
    "!conda install aif360"
   ]
  },
  {
   "cell_type": "code",
   "execution_count": 3,
   "metadata": {},
   "outputs": [
    {
     "name": "stdout",
     "output_type": "stream",
     "text": [
      "/bin/sh: y: command not found\r\n"
     ]
    }
   ],
   "source": [
    "!y"
   ]
  },
  {
   "cell_type": "code",
   "execution_count": null,
   "metadata": {},
   "outputs": [],
   "source": []
  }
 ],
 "metadata": {
  "kernelspec": {
   "display_name": "Python 3",
   "language": "python",
   "name": "python3"
  },
  "language_info": {
   "codemirror_mode": {
    "name": "ipython",
    "version": 3
   },
   "file_extension": ".py",
   "mimetype": "text/x-python",
   "name": "python",
   "nbconvert_exporter": "python",
   "pygments_lexer": "ipython3",
   "version": "3.7.1"
  }
 },
 "nbformat": 4,
 "nbformat_minor": 2
}
